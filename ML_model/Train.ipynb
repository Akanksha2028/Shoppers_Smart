{
 "cells": [
  {
   "cell_type": "code",
   "execution_count": 1,
   "id": "1e6bcc5f-b685-4a3f-81b6-a398a8595dc5",
   "metadata": {},
   "outputs": [],
   "source": [
    "import pandas as pd\n",
    "import numpy as np\n",
    "import pickle\n",
    "from sklearn.metrics.pairwise import cosine_similarity\n",
    "from datetime import datetime\n",
    "import os"
   ]
  },
  {
   "cell_type": "code",
   "execution_count": 2,
   "id": "8f0f793c-7f30-418c-83db-e566d1164a91",
   "metadata": {},
   "outputs": [
    {
     "data": {
      "text/html": [
       "<div>\n",
       "<style scoped>\n",
       "    .dataframe tbody tr th:only-of-type {\n",
       "        vertical-align: middle;\n",
       "    }\n",
       "\n",
       "    .dataframe tbody tr th {\n",
       "        vertical-align: top;\n",
       "    }\n",
       "\n",
       "    .dataframe thead th {\n",
       "        text-align: right;\n",
       "    }\n",
       "</style>\n",
       "<table border=\"1\" class=\"dataframe\">\n",
       "  <thead>\n",
       "    <tr style=\"text-align: right;\">\n",
       "      <th></th>\n",
       "      <th>transaction_id</th>\n",
       "      <th>customer_id</th>\n",
       "      <th>product_id</th>\n",
       "      <th>purchase_date</th>\n",
       "      <th>name_x</th>\n",
       "      <th>email</th>\n",
       "      <th>phone_number</th>\n",
       "      <th>location</th>\n",
       "      <th>name_y</th>\n",
       "      <th>description</th>\n",
       "      <th>price</th>\n",
       "    </tr>\n",
       "  </thead>\n",
       "  <tbody>\n",
       "    <tr>\n",
       "      <th>0</th>\n",
       "      <td>1</td>\n",
       "      <td>42</td>\n",
       "      <td>84</td>\n",
       "      <td>2025-06-19</td>\n",
       "      <td>Aadhya Nair</td>\n",
       "      <td>aadhya.nair@example.com</td>\n",
       "      <td>9025501427</td>\n",
       "      <td>Lucknow</td>\n",
       "      <td>Ceiling Fan - Premium</td>\n",
       "      <td>Ceiling Fan - Premium - Essential household item</td>\n",
       "      <td>1397.48</td>\n",
       "    </tr>\n",
       "    <tr>\n",
       "      <th>1</th>\n",
       "      <td>2</td>\n",
       "      <td>55</td>\n",
       "      <td>83</td>\n",
       "      <td>2025-05-24</td>\n",
       "      <td>Ishaan Nair</td>\n",
       "      <td>ishaan.nair@example.com</td>\n",
       "      <td>9768045202</td>\n",
       "      <td>Mumbai</td>\n",
       "      <td>Stapler Pack</td>\n",
       "      <td>Stapler Pack - Essential household item</td>\n",
       "      <td>997.22</td>\n",
       "    </tr>\n",
       "    <tr>\n",
       "      <th>2</th>\n",
       "      <td>3</td>\n",
       "      <td>87</td>\n",
       "      <td>214</td>\n",
       "      <td>2025-06-12</td>\n",
       "      <td>Myra Chatterjee</td>\n",
       "      <td>myra.chatterjee@example.com</td>\n",
       "      <td>9779426304</td>\n",
       "      <td>Patna</td>\n",
       "      <td>Scissors (Combo)</td>\n",
       "      <td>Scissors (Combo) - Essential household item</td>\n",
       "      <td>1171.84</td>\n",
       "    </tr>\n",
       "    <tr>\n",
       "      <th>3</th>\n",
       "      <td>4</td>\n",
       "      <td>15</td>\n",
       "      <td>169</td>\n",
       "      <td>2025-06-25</td>\n",
       "      <td>Riya Nair</td>\n",
       "      <td>riya.nair@example.com</td>\n",
       "      <td>9101612239</td>\n",
       "      <td>Mumbai</td>\n",
       "      <td>Memory Card XL</td>\n",
       "      <td>Memory Card XL - Essential household item</td>\n",
       "      <td>1922.17</td>\n",
       "    </tr>\n",
       "    <tr>\n",
       "      <th>4</th>\n",
       "      <td>5</td>\n",
       "      <td>78</td>\n",
       "      <td>179</td>\n",
       "      <td>2025-05-23</td>\n",
       "      <td>Myra Nair</td>\n",
       "      <td>myra.nair@example.com</td>\n",
       "      <td>9319718430</td>\n",
       "      <td>Delhi</td>\n",
       "      <td>Broom (Combo)</td>\n",
       "      <td>Broom (Combo) - Essential household item</td>\n",
       "      <td>683.59</td>\n",
       "    </tr>\n",
       "  </tbody>\n",
       "</table>\n",
       "</div>"
      ],
      "text/plain": [
       "   transaction_id  customer_id  product_id purchase_date           name_x  \\\n",
       "0               1           42          84    2025-06-19      Aadhya Nair   \n",
       "1               2           55          83    2025-05-24      Ishaan Nair   \n",
       "2               3           87         214    2025-06-12  Myra Chatterjee   \n",
       "3               4           15         169    2025-06-25        Riya Nair   \n",
       "4               5           78         179    2025-05-23        Myra Nair   \n",
       "\n",
       "                         email  phone_number location                 name_y  \\\n",
       "0      aadhya.nair@example.com    9025501427  Lucknow  Ceiling Fan - Premium   \n",
       "1      ishaan.nair@example.com    9768045202   Mumbai           Stapler Pack   \n",
       "2  myra.chatterjee@example.com    9779426304    Patna       Scissors (Combo)   \n",
       "3        riya.nair@example.com    9101612239   Mumbai         Memory Card XL   \n",
       "4        myra.nair@example.com    9319718430    Delhi          Broom (Combo)   \n",
       "\n",
       "                                        description    price  \n",
       "0  Ceiling Fan - Premium - Essential household item  1397.48  \n",
       "1           Stapler Pack - Essential household item   997.22  \n",
       "2       Scissors (Combo) - Essential household item  1171.84  \n",
       "3         Memory Card XL - Essential household item  1922.17  \n",
       "4          Broom (Combo) - Essential household item   683.59  "
      ]
     },
     "execution_count": 2,
     "metadata": {},
     "output_type": "execute_result"
    }
   ],
   "source": [
    "df = pd.read_csv(\"../../ShoppersSmart/merged_dataset.csv\")\n",
    "df.head()"
   ]
  },
  {
   "cell_type": "code",
   "execution_count": 3,
   "id": "8bc70f93-97a0-45b3-b313-d162ceb2156d",
   "metadata": {},
   "outputs": [
    {
     "name": "stdout",
     "output_type": "stream",
     "text": [
      "Index(['transaction_id', 'customer_id', 'product_id', 'purchase_date',\n",
      "       'name_x', 'email', 'phone_number', 'location', 'name_y', 'description',\n",
      "       'price'],\n",
      "      dtype='object')\n"
     ]
    }
   ],
   "source": [
    "print(df.columns)"
   ]
  },
  {
   "cell_type": "code",
   "execution_count": 4,
   "id": "ba9a7ee0-471f-4c22-9215-c5dcd4d45ced",
   "metadata": {},
   "outputs": [],
   "source": [
    "df.dropna(subset=['customer_id', 'name_y', 'location', 'purchase_date'], inplace=True)\n",
    "df['customer_id'] = df['customer_id'].astype(str)\n",
    "df['purchase_date'] = pd.to_datetime(df['purchase_date'], errors='coerce')\n",
    "df.dropna(subset=['purchase_date'], inplace=True)\n"
   ]
  },
  {
   "cell_type": "code",
   "execution_count": 5,
   "id": "4528af99-b71f-4dce-acd2-ece1e574989b",
   "metadata": {},
   "outputs": [],
   "source": [
    "df['quantity'] = 1\n",
    "now = datetime.now()\n",
    "df['days_ago'] = (now - df['purchase_date']).dt.days\n",
    "df['recency_weight'] = np.exp(-df['days_ago'] / 30)\n",
    "df['weighted_quantity'] = df['quantity'] * df['recency_weight']"
   ]
  },
  {
   "cell_type": "code",
   "execution_count": 6,
   "id": "cc4eebd3-c3cf-4434-9642-b057f9c7cf20",
   "metadata": {},
   "outputs": [],
   "source": [
    "pivot_table = df.pivot_table(\n",
    "    index='customer_id',\n",
    "    columns='name_y',\n",
    "    values='quantity',\n",
    "    aggfunc='sum',\n",
    "    fill_value=0\n",
    ")"
   ]
  },
  {
   "cell_type": "code",
   "execution_count": 7,
   "id": "700574ff-429a-4f36-9068-e410180069f0",
   "metadata": {},
   "outputs": [],
   "source": [
    "similarity_matrix = cosine_similarity(pivot_table)\n",
    "similarity_df = pd.DataFrame(similarity_matrix, index=pivot_table.index, columns=pivot_table.index)"
   ]
  },
  {
   "cell_type": "code",
   "execution_count": 8,
   "id": "58eb0f2e-4432-4ec5-8a5c-630f0128d880",
   "metadata": {},
   "outputs": [],
   "source": [
    "customer_history = df.groupby('customer_id')['name_y'].apply(list).to_dict()"
   ]
  },
  {
   "cell_type": "code",
   "execution_count": 9,
   "id": "98db5882-df3b-4484-a905-4ab6c935c604",
   "metadata": {},
   "outputs": [],
   "source": [
    "top_products_by_location = (\n",
    "    df.groupby(['location', 'name_y'])['quantity']\n",
    "    .sum()\n",
    "    .reset_index()\n",
    "    .sort_values(['location', 'quantity'], ascending=[True, False])\n",
    ")"
   ]
  },
  {
   "cell_type": "code",
   "execution_count": 10,
   "id": "a7cca095-a2dc-4415-9cb8-c3ee5c540f69",
   "metadata": {},
   "outputs": [],
   "source": [
    "location_recommendations = {}\n",
    "for location, group in top_products_by_location.groupby('location'):\n",
    "    location_recommendations[location] = group.head(10)['name_y'].tolist()"
   ]
  },
  {
   "cell_type": "code",
   "execution_count": 11,
   "id": "3f1c924c-7684-4674-b37d-551dce1de47b",
   "metadata": {},
   "outputs": [],
   "source": [
    "os.makedirs(\"../../ShoppersSmart/recommender\", exist_ok=True)"
   ]
  },
  {
   "cell_type": "code",
   "execution_count": 12,
   "id": "4fa85a90-bb16-47a9-b8f1-621b291bc1b8",
   "metadata": {},
   "outputs": [],
   "source": [
    "with open(\"../../ShoppersSmart/recommender/pivot_table.pkl\", \"wb\") as f:\n",
    "    pickle.dump(pivot_table, f)"
   ]
  },
  {
   "cell_type": "code",
   "execution_count": 13,
   "id": "2a5dc63f-9e59-465c-a7f9-7642ef62856d",
   "metadata": {},
   "outputs": [],
   "source": [
    "with open(\"../../ShoppersSmart/recommender/similarity.pkl\", \"wb\") as f:\n",
    "    pickle.dump(similarity_df, f)"
   ]
  },
  {
   "cell_type": "code",
   "execution_count": 14,
   "id": "cd19ee79-1b5d-49a1-ac6a-151386142d47",
   "metadata": {},
   "outputs": [],
   "source": [
    "with open(\"../../ShoppersSmart/recommender/customer_history.pkl\", \"wb\") as f:\n",
    "    pickle.dump(customer_history, f)"
   ]
  },
  {
   "cell_type": "code",
   "execution_count": 15,
   "id": "9c2ce68e-f4da-4df3-82d5-63993cdb3e7e",
   "metadata": {},
   "outputs": [],
   "source": [
    "with open(\"../../ShoppersSmart/recommender/location_recommendations.pkl\", \"wb\") as f:\n",
    "    pickle.dump(location_recommendations, f)"
   ]
  },
  {
   "cell_type": "code",
   "execution_count": 16,
   "id": "4aabfd12-935f-4e64-8449-03056a45a11d",
   "metadata": {},
   "outputs": [
    {
     "name": "stdout",
     "output_type": "stream",
     "text": [
      "All recommender files saved successfully: collaborative, history, and location-based.\n"
     ]
    }
   ],
   "source": [
    "print(\"All recommender files saved successfully: collaborative, history, and location-based.\")"
   ]
  },
  {
   "cell_type": "code",
   "execution_count": 18,
   "id": "0dcadbbc-63b5-40af-94d9-d39bc175e01d",
   "metadata": {},
   "outputs": [],
   "source": []
  },
  {
   "cell_type": "code",
   "execution_count": 19,
   "id": "d8c99a31-fa77-4522-888a-e51e98dee6bc",
   "metadata": {},
   "outputs": [
    {
     "ename": "KeyError",
     "evalue": "'product_name'",
     "output_type": "error",
     "traceback": [
      "\u001b[1;31m---------------------------------------------------------------------------\u001b[0m",
      "\u001b[1;31mKeyError\u001b[0m                                  Traceback (most recent call last)",
      "File \u001b[1;32m~\\anaconda3\\Lib\\site-packages\\pandas\\core\\indexes\\base.py:3805\u001b[0m, in \u001b[0;36mIndex.get_loc\u001b[1;34m(self, key)\u001b[0m\n\u001b[0;32m   3804\u001b[0m \u001b[38;5;28;01mtry\u001b[39;00m:\n\u001b[1;32m-> 3805\u001b[0m     \u001b[38;5;28;01mreturn\u001b[39;00m \u001b[38;5;28mself\u001b[39m\u001b[38;5;241m.\u001b[39m_engine\u001b[38;5;241m.\u001b[39mget_loc(casted_key)\n\u001b[0;32m   3806\u001b[0m \u001b[38;5;28;01mexcept\u001b[39;00m \u001b[38;5;167;01mKeyError\u001b[39;00m \u001b[38;5;28;01mas\u001b[39;00m err:\n",
      "File \u001b[1;32mindex.pyx:167\u001b[0m, in \u001b[0;36mpandas._libs.index.IndexEngine.get_loc\u001b[1;34m()\u001b[0m\n",
      "File \u001b[1;32mindex.pyx:196\u001b[0m, in \u001b[0;36mpandas._libs.index.IndexEngine.get_loc\u001b[1;34m()\u001b[0m\n",
      "File \u001b[1;32mpandas\\\\_libs\\\\hashtable_class_helper.pxi:7081\u001b[0m, in \u001b[0;36mpandas._libs.hashtable.PyObjectHashTable.get_item\u001b[1;34m()\u001b[0m\n",
      "File \u001b[1;32mpandas\\\\_libs\\\\hashtable_class_helper.pxi:7089\u001b[0m, in \u001b[0;36mpandas._libs.hashtable.PyObjectHashTable.get_item\u001b[1;34m()\u001b[0m\n",
      "\u001b[1;31mKeyError\u001b[0m: 'product_name'",
      "\nThe above exception was the direct cause of the following exception:\n",
      "\u001b[1;31mKeyError\u001b[0m                                  Traceback (most recent call last)",
      "Cell \u001b[1;32mIn[19], line 1\u001b[0m\n\u001b[1;32m----> 1\u001b[0m df[\u001b[38;5;124m\"\u001b[39m\u001b[38;5;124mtext\u001b[39m\u001b[38;5;124m\"\u001b[39m] \u001b[38;5;241m=\u001b[39m df[\u001b[38;5;124m\"\u001b[39m\u001b[38;5;124mproduct_name\u001b[39m\u001b[38;5;124m\"\u001b[39m]\u001b[38;5;241m.\u001b[39mastype(\u001b[38;5;28mstr\u001b[39m) \u001b[38;5;241m+\u001b[39m \u001b[38;5;124m\"\u001b[39m\u001b[38;5;124m \u001b[39m\u001b[38;5;124m\"\u001b[39m \u001b[38;5;241m+\u001b[39m df[\u001b[38;5;124m\"\u001b[39m\u001b[38;5;124mcategory\u001b[39m\u001b[38;5;124m\"\u001b[39m]\u001b[38;5;241m.\u001b[39mastype(\u001b[38;5;28mstr\u001b[39m)\n",
      "File \u001b[1;32m~\\anaconda3\\Lib\\site-packages\\pandas\\core\\frame.py:4102\u001b[0m, in \u001b[0;36mDataFrame.__getitem__\u001b[1;34m(self, key)\u001b[0m\n\u001b[0;32m   4100\u001b[0m \u001b[38;5;28;01mif\u001b[39;00m \u001b[38;5;28mself\u001b[39m\u001b[38;5;241m.\u001b[39mcolumns\u001b[38;5;241m.\u001b[39mnlevels \u001b[38;5;241m>\u001b[39m \u001b[38;5;241m1\u001b[39m:\n\u001b[0;32m   4101\u001b[0m     \u001b[38;5;28;01mreturn\u001b[39;00m \u001b[38;5;28mself\u001b[39m\u001b[38;5;241m.\u001b[39m_getitem_multilevel(key)\n\u001b[1;32m-> 4102\u001b[0m indexer \u001b[38;5;241m=\u001b[39m \u001b[38;5;28mself\u001b[39m\u001b[38;5;241m.\u001b[39mcolumns\u001b[38;5;241m.\u001b[39mget_loc(key)\n\u001b[0;32m   4103\u001b[0m \u001b[38;5;28;01mif\u001b[39;00m is_integer(indexer):\n\u001b[0;32m   4104\u001b[0m     indexer \u001b[38;5;241m=\u001b[39m [indexer]\n",
      "File \u001b[1;32m~\\anaconda3\\Lib\\site-packages\\pandas\\core\\indexes\\base.py:3812\u001b[0m, in \u001b[0;36mIndex.get_loc\u001b[1;34m(self, key)\u001b[0m\n\u001b[0;32m   3807\u001b[0m     \u001b[38;5;28;01mif\u001b[39;00m \u001b[38;5;28misinstance\u001b[39m(casted_key, \u001b[38;5;28mslice\u001b[39m) \u001b[38;5;129;01mor\u001b[39;00m (\n\u001b[0;32m   3808\u001b[0m         \u001b[38;5;28misinstance\u001b[39m(casted_key, abc\u001b[38;5;241m.\u001b[39mIterable)\n\u001b[0;32m   3809\u001b[0m         \u001b[38;5;129;01mand\u001b[39;00m \u001b[38;5;28many\u001b[39m(\u001b[38;5;28misinstance\u001b[39m(x, \u001b[38;5;28mslice\u001b[39m) \u001b[38;5;28;01mfor\u001b[39;00m x \u001b[38;5;129;01min\u001b[39;00m casted_key)\n\u001b[0;32m   3810\u001b[0m     ):\n\u001b[0;32m   3811\u001b[0m         \u001b[38;5;28;01mraise\u001b[39;00m InvalidIndexError(key)\n\u001b[1;32m-> 3812\u001b[0m     \u001b[38;5;28;01mraise\u001b[39;00m \u001b[38;5;167;01mKeyError\u001b[39;00m(key) \u001b[38;5;28;01mfrom\u001b[39;00m \u001b[38;5;21;01merr\u001b[39;00m\n\u001b[0;32m   3813\u001b[0m \u001b[38;5;28;01mexcept\u001b[39;00m \u001b[38;5;167;01mTypeError\u001b[39;00m:\n\u001b[0;32m   3814\u001b[0m     \u001b[38;5;66;03m# If we have a listlike key, _check_indexing_error will raise\u001b[39;00m\n\u001b[0;32m   3815\u001b[0m     \u001b[38;5;66;03m#  InvalidIndexError. Otherwise we fall through and re-raise\u001b[39;00m\n\u001b[0;32m   3816\u001b[0m     \u001b[38;5;66;03m#  the TypeError.\u001b[39;00m\n\u001b[0;32m   3817\u001b[0m     \u001b[38;5;28mself\u001b[39m\u001b[38;5;241m.\u001b[39m_check_indexing_error(key)\n",
      "\u001b[1;31mKeyError\u001b[0m: 'product_name'"
     ]
    }
   ],
   "source": []
  },
  {
   "cell_type": "code",
   "execution_count": null,
   "id": "809148d5-b9c6-455e-aff0-f76ae1323a1b",
   "metadata": {},
   "outputs": [],
   "source": []
  }
 ],
 "metadata": {
  "kernelspec": {
   "display_name": "Python 3 (ipykernel)",
   "language": "python",
   "name": "python3"
  },
  "language_info": {
   "codemirror_mode": {
    "name": "ipython",
    "version": 3
   },
   "file_extension": ".py",
   "mimetype": "text/x-python",
   "name": "python",
   "nbconvert_exporter": "python",
   "pygments_lexer": "ipython3",
   "version": "3.12.4"
  }
 },
 "nbformat": 4,
 "nbformat_minor": 5
}
